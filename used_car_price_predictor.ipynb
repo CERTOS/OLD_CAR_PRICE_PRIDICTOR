{
 "cells": [
  {
   "cell_type": "code",
   "execution_count": 1,
   "metadata": {},
   "outputs": [
    {
     "name": "stdout",
     "output_type": "stream",
     "text": [
      "Requirement already satisfied: xgboost in d:\\anaconda\\lib\\site-packages (1.3.3)\n",
      "Requirement already satisfied: numpy in d:\\anaconda\\lib\\site-packages (from xgboost) (1.18.1)\n",
      "Requirement already satisfied: scipy in d:\\anaconda\\lib\\site-packages (from xgboost) (1.4.1)\n"
     ]
    }
   ],
   "source": [
    "!pip install xgboost"
   ]
  },
  {
   "cell_type": "code",
   "execution_count": 1,
   "metadata": {},
   "outputs": [],
   "source": [
    "import numpy as np \n",
    "import pandas as pd \n",
    "import joblib"
   ]
  },
  {
   "cell_type": "code",
   "execution_count": 2,
   "metadata": {},
   "outputs": [],
   "source": [
    "# Read the CSV file \n",
    "rider_provider='CARS.csv'\n",
    "car_dataframe = pd.read_csv(rider_provider)"
   ]
  },
  {
   "cell_type": "code",
   "execution_count": 3,
   "metadata": {},
   "outputs": [],
   "source": [
    "#thus there are two null enteries in the Cylinder feature of the car, so lets remove it\n",
    "car_dataframe = car_dataframe.dropna()"
   ]
  },
  {
   "cell_type": "code",
   "execution_count": 4,
   "metadata": {},
   "outputs": [],
   "source": [
    "#removing currency sign and other unrequired signs from price related columms and converting it to integer form\n",
    "car_dataframe[\"MSRP\"] = car_dataframe[\"MSRP\"].str.replace(\"$\", \"\")\n",
    "car_dataframe[\"MSRP\"] = car_dataframe[\"MSRP\"].str.replace(\",\", \"\")\n",
    "car_dataframe[\"MSRP\"] = car_dataframe[\"MSRP\"].astype(int)\n"
   ]
  },
  {
   "cell_type": "code",
   "execution_count": 5,
   "metadata": {},
   "outputs": [],
   "source": [
    "car_dataframe[\"Invoice\"] = car_dataframe[\"Invoice\"].str.replace(\"$\", \"\")\n",
    "car_dataframe[\"Invoice\"] = car_dataframe[\"Invoice\"].str.replace(\",\", \"\")\n",
    "car_dataframe[\"Invoice\"] = car_dataframe[\"Invoice\"].astype(int)"
   ]
  },
  {
   "cell_type": "code",
   "execution_count": 6,
   "metadata": {},
   "outputs": [],
   "source": [
    "car_dataframe=car_dataframe.drop(['Model'], axis=1)"
   ]
  },
  {
   "cell_type": "code",
   "execution_count": 7,
   "metadata": {},
   "outputs": [],
   "source": [
    "# Perform One-Hot Encoding for \"Make\", \"Type\", \"Origin\", and \"DriveTrain\"\n",
    "df_dum = pd.get_dummies(car_dataframe, columns = ['Make','Type','Origin','DriveTrain'])\n"
   ]
  },
  {
   "cell_type": "code",
   "execution_count": 8,
   "metadata": {},
   "outputs": [],
   "source": [
    "dataframe_data = df_dum.drop(['Invoice'], axis=1)"
   ]
  },
  {
   "cell_type": "code",
   "execution_count": 9,
   "metadata": {},
   "outputs": [
    {
     "data": {
      "text/plain": [
       "(426, 59)"
      ]
     },
     "execution_count": 9,
     "metadata": {},
     "output_type": "execute_result"
    }
   ],
   "source": [
    "##lets check the shape of our new dataframe\n",
    "dataframe_data.shape"
   ]
  },
  {
   "cell_type": "code",
   "execution_count": 10,
   "metadata": {},
   "outputs": [],
   "source": [
    "# Feeding input features to X and output (MSRP) to y\n",
    "X = dataframe_data.drop(\"MSRP\", axis = 1)\n",
    "Y = dataframe_data[\"MSRP\"]"
   ]
  },
  {
   "cell_type": "code",
   "execution_count": 11,
   "metadata": {},
   "outputs": [],
   "source": [
    "modelcol=[\"EngineSize\",\n",
    "\"Cylinders\",\n",
    "\"Horsepower\",\n",
    "\"MPG_City\",\n",
    "\"MPG_Highway\",\n",
    "\"Weight\",\n",
    "\"Wheelbase\",\n",
    "\"Length\",\n",
    "\"Make_Acura\",\n",
    "\"Make_Audi\",\n",
    "\"Make_BMW\",\n",
    "\"Make_Buick\",\n",
    "\"Make_Cadillac\",\n",
    "\"Make_Chevrolet\",\n",
    "\"Make_Chrysler\",\n",
    "\"Make_Dodge\",\n",
    "\"Make_Ford\",\n",
    "\"Make_GMC\",\n",
    "\"Make_Honda\",\n",
    "\"Make_Hummer\",\n",
    "\"Make_Hyundai\",\n",
    "\"Make_Infiniti\",\n",
    "\"Make_Isuzu\",\n",
    "\"Make_Jaguar\",\n",
    "\"Make_Jeep\",\n",
    "\"Make_Kia\",\n",
    "\"Make_Land Rover\",\n",
    "\"Make_Lexus\",\n",
    "\"Make_Lincoln\",\n",
    "\"Make_MINI\",\n",
    "\"Make_Mazda\",\n",
    "\"Make_Mercedes-Benz\",\n",
    "\"Make_Mercury\",\n",
    "\"Make_Mitsubishi\",\n",
    "\"Make_Nissan\",\n",
    "\"Make_Oldsmobile\",\n",
    "\"Make_Pontiac\",\n",
    "\"Make_Porsche\",\n",
    "\"Make_Saab\",\n",
    "\"Make_Saturn\",\n",
    "\"Make_Scion\",\n",
    "\"Make_Subaru\",\n",
    "\"Make_Suzuki\",\n",
    "\"Make_Toyota\",\n",
    "\"Make_Volkswagen\",\n",
    "\"Make_Volvo\",\n",
    "\"Type_Hybrid\",\n",
    "\"Type_SUV\",\n",
    "\"Type_Sedan\",\n",
    "\"Type_Sports\",\n",
    "\"Type_Truck\",\n",
    "\"Type_Wagon\",\n",
    "\"Origin_Asia\",\n",
    "\"Origin_Europe\",\n",
    "\"Origin_USA\",\n",
    "\"DriveTrain_All\",\n",
    "\"DriveTrain_Front\",\n",
    "\"DriveTrain_Rear\",\n",
    "]"
   ]
  },
  {
   "cell_type": "code",
   "execution_count": 12,
   "metadata": {},
   "outputs": [
    {
     "data": {
      "text/plain": [
       "['modelcol.pkl']"
      ]
     },
     "execution_count": 12,
     "metadata": {},
     "output_type": "execute_result"
    }
   ],
   "source": [
    "joblib.dump(modelcol,\"modelcol.pkl\")"
   ]
  },
  {
   "cell_type": "code",
   "execution_count": 13,
   "metadata": {},
   "outputs": [],
   "source": [
    "## creating X and Y numpy araay to make it ready for dataset splitiing for test and train\n",
    "X = np.array(X)\n",
    "Y = np.array(Y)\n"
   ]
  },
  {
   "cell_type": "code",
   "execution_count": 14,
   "metadata": {},
   "outputs": [],
   "source": [
    "#spliting data i am using test train split from sklearn, thus importing it\n",
    "from sklearn.model_selection import train_test_split"
   ]
  },
  {
   "cell_type": "code",
   "execution_count": 15,
   "metadata": {},
   "outputs": [],
   "source": [
    "# spliting the dataset into 80-20 % partition\n",
    "X_train, X_test, Y_train, Y_test= train_test_split(X, Y, test_size = 0.2)"
   ]
  },
  {
   "cell_type": "code",
   "execution_count": 16,
   "metadata": {},
   "outputs": [
    {
     "name": "stdout",
     "output_type": "stream",
     "text": [
      "shape of X_train :  (340, 58)\n",
      "shape of X_test  :  (86, 58)\n",
      "shape of Y_train :  (340,)\n",
      "shape of Y_test  :  (86,)\n"
     ]
    }
   ],
   "source": [
    "#checking the shape to confirm the split\n",
    "print(\"shape of X_train : \",X_train.shape)\n",
    "print(\"shape of X_test  : \",X_test.shape)\n",
    "print(\"shape of Y_train : \",Y_train.shape)\n",
    "print(\"shape of Y_test  : \",Y_test.shape)"
   ]
  },
  {
   "cell_type": "code",
   "execution_count": 17,
   "metadata": {},
   "outputs": [],
   "source": [
    "##lets name our model as : DEVIL'S_EYE_MODEL\n",
    "from xgboost import XGBRegressor"
   ]
  },
  {
   "cell_type": "code",
   "execution_count": 18,
   "metadata": {},
   "outputs": [
    {
     "data": {
      "text/plain": [
       "XGBRegressor(base_score=0.5, booster='gbtree', colsample_bylevel=1,\n",
       "             colsample_bynode=1, colsample_bytree=1, gamma=0, gpu_id=-1,\n",
       "             importance_type='gain', interaction_constraints='',\n",
       "             learning_rate=0.300000012, max_delta_step=0, max_depth=6,\n",
       "             min_child_weight=1, missing=nan, monotone_constraints='()',\n",
       "             n_estimators=100, n_jobs=8, num_parallel_tree=1,\n",
       "             objective='reg:squarederror', random_state=0, reg_alpha=0,\n",
       "             reg_lambda=1, scale_pos_weight=1, subsample=1, tree_method='exact',\n",
       "             validate_parameters=1, verbosity=None)"
      ]
     },
     "execution_count": 18,
     "metadata": {},
     "output_type": "execute_result"
    }
   ],
   "source": [
    "DEVIL_EYE_MODEL = XGBRegressor()\n",
    "DEVIL_EYE_MODEL.fit(X_train, Y_train)"
   ]
  },
  {
   "cell_type": "code",
   "execution_count": 19,
   "metadata": {},
   "outputs": [
    {
     "name": "stdout",
     "output_type": "stream",
     "text": [
      "Accuracy of DEVIL_EYE_MODEL i.e. Random forest model with XGBOOST is :  91.78363973393911\n"
     ]
    }
   ],
   "source": [
    "accuracy_of_DEVIL_EYE_MODEL = DEVIL_EYE_MODEL.score(X_test, Y_test)\n",
    "percentage_accuracy_of_DEVIL_EYE_MODEL = accuracy_of_DEVIL_EYE_MODEL * 100\n",
    "print(\"Accuracy of DEVIL_EYE_MODEL i.e. Random forest model with XGBOOST is : \",percentage_accuracy_of_DEVIL_EYE_MODEL)"
   ]
  },
  {
   "cell_type": "code",
   "execution_count": 20,
   "metadata": {},
   "outputs": [
    {
     "name": "stderr",
     "output_type": "stream",
     "text": [
      "D:\\ANACONDA\\lib\\site-packages\\sklearn\\externals\\joblib\\__init__.py:15: FutureWarning: sklearn.externals.joblib is deprecated in 0.21 and will be removed in 0.23. Please import this functionality directly from joblib, which can be installed with: pip install joblib. If this warning is raised when loading pickled models, you may need to re-serialize those models with scikit-learn 0.21+.\n",
      "  warnings.warn(msg, category=FutureWarning)\n"
     ]
    }
   ],
   "source": [
    "from sklearn.externals import joblib"
   ]
  },
  {
   "cell_type": "code",
   "execution_count": 21,
   "metadata": {},
   "outputs": [
    {
     "data": {
      "text/plain": [
       "['model.pkl']"
      ]
     },
     "execution_count": 21,
     "metadata": {},
     "output_type": "execute_result"
    }
   ],
   "source": [
    "joblib.dump(DEVIL_EYE_MODEL, 'model.pkl')"
   ]
  },
  {
   "cell_type": "markdown",
   "metadata": {},
   "source": [
    "'''  maker= request.form[\"maker\"]\n",
    "        Type = request.form[\"type\"]\n",
    "        origin = request.form[\"origin\"]\n",
    "        drivetrain = request.form[\"drivetrain\"]\n",
    "        EngineSize = request.form[\"EngineSize\"]\n",
    "        Cylinders = request.form[\"Cylinders\"]\n",
    "        Horsepower = request.form[\"Horsepower\"]\n",
    "        MPG_City = request.form[\"MPG_City\"]\n",
    "        MPG_Highway = request.form[\"MPG_Highway\"]\n",
    "        Weight = request.form[\"Weight\"]\n",
    "        Wheelbase = request.form[\"Wheelbase\"]\n",
    "        Length = request.form[\"Length\"]\n",
    "'''"
   ]
  },
  {
   "cell_type": "code",
   "execution_count": null,
   "metadata": {},
   "outputs": [],
   "source": []
  }
 ],
 "metadata": {
  "kernelspec": {
   "display_name": "Python 3",
   "language": "python",
   "name": "python3"
  },
  "language_info": {
   "codemirror_mode": {
    "name": "ipython",
    "version": 3
   },
   "file_extension": ".py",
   "mimetype": "text/x-python",
   "name": "python",
   "nbconvert_exporter": "python",
   "pygments_lexer": "ipython3",
   "version": "3.7.6"
  }
 },
 "nbformat": 4,
 "nbformat_minor": 4
}
